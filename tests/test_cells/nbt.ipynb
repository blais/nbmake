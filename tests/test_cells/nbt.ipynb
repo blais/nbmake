{
 "cells": [
  {
   "cell_type": "markdown",
   "id": "e40cc741",
   "metadata": {},
   "source": [
    "# init"
   ]
  },
  {
   "cell_type": "code",
   "execution_count": 5,
   "id": "ad4c717c",
   "metadata": {},
   "outputs": [
    {
     "name": "stdout",
     "output_type": "stream",
     "text": [
      "initialized\n"
     ]
    }
   ],
   "source": [
    "import csv\n",
    "print(\"initialized\")"
   ]
  },
  {
   "cell_type": "markdown",
   "id": "7f5aa386",
   "metadata": {},
   "source": [
    "# test: first thing\n"
   ]
  },
  {
   "cell_type": "code",
   "execution_count": 6,
   "id": "323d3297",
   "metadata": {},
   "outputs": [
    {
     "name": "stdout",
     "output_type": "stream",
     "text": [
      "XXXXXXXXXXXXXXXXXX\n"
     ]
    }
   ],
   "source": [
    "FILES_HASH_PERSON = b'MyApp Files Hash'\n",
    "h = hashlib.blake2b(digest_size=32, person=FILES_HASH_PERSON)\n",
    "h.update(b'the same content')\n",
    "assert h.hexdigest() == '20d9cd024d4fb086aae819a1432dd2466de12947831b75c5a30cf2676095d3b4'\n",
    "print(\"XXXXXXXXXXXXXXXXXX\")\n"
   ]
  },
  {
   "cell_type": "markdown",
   "id": "74ff11e6",
   "metadata": {},
   "source": [
    "# init"
   ]
  },
  {
   "cell_type": "code",
   "execution_count": 10,
   "id": "2eba1b7d",
   "metadata": {},
   "outputs": [],
   "source": [
    "import hashlib"
   ]
  },
  {
   "cell_type": "markdown",
   "id": "3f17702a",
   "metadata": {},
   "source": [
    "# something else"
   ]
  },
  {
   "cell_type": "code",
   "execution_count": 8,
   "id": "1a766729",
   "metadata": {
    "collapsed": true
   },
   "outputs": [
    {
     "ename": "TypeError",
     "evalue": "",
     "output_type": "error",
     "traceback": [
      "\u001b[0;31m---------------------------------------------------------------------------\u001b[0m",
      "\u001b[0;31mTypeError\u001b[0m                                 Traceback (most recent call last)",
      "Cell \u001b[0;32mIn [8], line 1\u001b[0m\n\u001b[0;32m----> 1\u001b[0m \u001b[38;5;28;01mraise\u001b[39;00m \u001b[38;5;167;01mTypeError\u001b[39;00m\n",
      "\u001b[0;31mTypeError\u001b[0m: "
     ]
    }
   ],
   "source": [
    "raise TypeError"
   ]
  },
  {
   "cell_type": "markdown",
   "id": "38737b8f",
   "metadata": {},
   "source": [
    "# test: second thing"
   ]
  },
  {
   "cell_type": "code",
   "execution_count": 7,
   "id": "570a0913",
   "metadata": {},
   "outputs": [
    {
     "ename": "AssertionError",
     "evalue": "",
     "output_type": "error",
     "traceback": [
      "\u001b[0;31m---------------------------------------------------------------------------\u001b[0m",
      "\u001b[0;31mAssertionError\u001b[0m                            Traceback (most recent call last)",
      "Cell \u001b[0;32mIn [7], line 4\u001b[0m\n\u001b[1;32m      2\u001b[0m h \u001b[38;5;241m=\u001b[39m hashlib\u001b[38;5;241m.\u001b[39mblake2b(digest_size\u001b[38;5;241m=\u001b[39m\u001b[38;5;241m32\u001b[39m, person\u001b[38;5;241m=\u001b[39mFILES_HASH_PERSON)\n\u001b[1;32m      3\u001b[0m h\u001b[38;5;241m.\u001b[39mupdate(\u001b[38;5;124mb\u001b[39m\u001b[38;5;124m'\u001b[39m\u001b[38;5;124mthe same content\u001b[39m\u001b[38;5;124m'\u001b[39m)\n\u001b[0;32m----> 4\u001b[0m \u001b[38;5;28;01massert\u001b[39;00m h\u001b[38;5;241m.\u001b[39mhexdigest() \u001b[38;5;241m!=\u001b[39m \u001b[38;5;124m'\u001b[39m\u001b[38;5;124m20d9cd024d4fb086aae819a1432dd2466de12947831b75c5a30cf2676095d3b4\u001b[39m\u001b[38;5;124m'\u001b[39m\n",
      "\u001b[0;31mAssertionError\u001b[0m: "
     ]
    }
   ],
   "source": [
    "FILES_HASH_PERSON = b'MyApp Files Hash'\n",
    "h = hashlib.blake2b(digest_size=32, person=FILES_HASH_PERSON)\n",
    "h.update(b'the same content')\n",
    "assert h.hexdigest() != '20d9cd024d4fb086aae819a1432dd2466de12947831b75c5a30cf2676095d3b4'\n"
   ]
  },
  {
   "cell_type": "code",
   "execution_count": null,
   "id": "824a66ce",
   "metadata": {},
   "outputs": [],
   "source": [
    "raise ValueError"
   ]
  }
 ],
 "metadata": {
  "jupytext": {
   "formats": "ipynb,auto:percent"
  },
  "kernelspec": {
   "display_name": "Python 3 (ipykernel)",
   "language": "python",
   "name": "python3"
  },
  "language_info": {
   "codemirror_mode": {
    "name": "ipython",
    "version": 3
   },
   "file_extension": ".py",
   "mimetype": "text/x-python",
   "name": "python",
   "nbconvert_exporter": "python",
   "pygments_lexer": "ipython3",
   "version": "3.10.7"
  }
 },
 "nbformat": 4,
 "nbformat_minor": 5
}
