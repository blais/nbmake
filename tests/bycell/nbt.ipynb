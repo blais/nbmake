{
 "cells": [
  {
   "cell_type": "markdown",
   "id": "e40cc741",
   "metadata": {},
   "source": [
    "# init"
   ]
  },
  {
   "cell_type": "markdown",
   "id": "c9aa957e",
   "metadata": {},
   "source": [
    "This is an initialization cell that will be run for all tests below."
   ]
  },
  {
   "cell_type": "code",
   "execution_count": 5,
   "id": "ad4c717c",
   "metadata": {},
   "outputs": [
    {
     "name": "stdout",
     "output_type": "stream",
     "text": [
      "initialized\n"
     ]
    }
   ],
   "source": [
    "import csv\n",
    "print(\"initialized\")"
   ]
  },
  {
   "cell_type": "markdown",
   "id": "7f5aa386",
   "metadata": {},
   "source": [
    "# test: first thing\n"
   ]
  },
  {
   "cell_type": "markdown",
   "id": "4a6bf2dd",
   "metadata": {},
   "source": [
    "This is the first test. Will fail because hashlib hasn't been imported (the initializat comes after it.)"
   ]
  },
  {
   "cell_type": "code",
   "execution_count": 2,
   "id": "323d3297",
   "metadata": {
    "collapsed": true,
    "lines_to_next_cell": 2
   },
   "outputs": [
    {
     "ename": "NameError",
     "evalue": "name 'hashlib' is not defined",
     "output_type": "error",
     "traceback": [
      "\u001b[0;31m---------------------------------------------------------------------------\u001b[0m",
      "\u001b[0;31mNameError\u001b[0m                                 Traceback (most recent call last)",
      "Cell \u001b[0;32mIn [2], line 2\u001b[0m\n\u001b[1;32m      1\u001b[0m FILES_HASH_PERSON \u001b[38;5;241m=\u001b[39m \u001b[38;5;124mb\u001b[39m\u001b[38;5;124m'\u001b[39m\u001b[38;5;124mMyApp Files Hash\u001b[39m\u001b[38;5;124m'\u001b[39m\n\u001b[0;32m----> 2\u001b[0m h \u001b[38;5;241m=\u001b[39m \u001b[43mhashlib\u001b[49m\u001b[38;5;241m.\u001b[39mblake2b(digest_size\u001b[38;5;241m=\u001b[39m\u001b[38;5;241m32\u001b[39m, person\u001b[38;5;241m=\u001b[39mFILES_HASH_PERSON)\n\u001b[1;32m      3\u001b[0m h\u001b[38;5;241m.\u001b[39mupdate(\u001b[38;5;124mb\u001b[39m\u001b[38;5;124m'\u001b[39m\u001b[38;5;124mthe same content\u001b[39m\u001b[38;5;124m'\u001b[39m)\n\u001b[1;32m      4\u001b[0m \u001b[38;5;28;01massert\u001b[39;00m h\u001b[38;5;241m.\u001b[39mhexdigest() \u001b[38;5;241m==\u001b[39m \u001b[38;5;124m'\u001b[39m\u001b[38;5;124m20d9cd024d4fb086aae819a1432dd2466de12947831b75c5a30cf2676095d3b4\u001b[39m\u001b[38;5;124m'\u001b[39m\n",
      "\u001b[0;31mNameError\u001b[0m: name 'hashlib' is not defined"
     ]
    }
   ],
   "source": [
    "FILES_HASH_PERSON = b'MyApp Files Hash'\n",
    "h = hashlib.blake2b(digest_size=32, person=FILES_HASH_PERSON)\n",
    "h.update(b'the same content')\n",
    "assert h.hexdigest() == '20d9cd024d4fb086aae819a1432dd2466de12947831b75c5a30cf2676095d3b4'"
   ]
  },
  {
   "cell_type": "markdown",
   "id": "74ff11e6",
   "metadata": {},
   "source": [
    "# init"
   ]
  },
  {
   "cell_type": "markdown",
   "id": "0222115f",
   "metadata": {},
   "source": [
    "This is a second initialization block. All the tests under it will also benefit from it being run before them, and it includes prior init blocks too."
   ]
  },
  {
   "cell_type": "code",
   "execution_count": 2,
   "id": "2eba1b7d",
   "metadata": {},
   "outputs": [],
   "source": [
    "import hashlib"
   ]
  },
  {
   "cell_type": "markdown",
   "id": "3f17702a",
   "metadata": {},
   "source": [
    "# something else"
   ]
  },
  {
   "cell_type": "markdown",
   "id": "fcb91f03",
   "metadata": {},
   "source": [
    "This is not an init nor a test section. It is ignored."
   ]
  },
  {
   "cell_type": "code",
   "execution_count": 6,
   "id": "1a766729",
   "metadata": {
    "collapsed": true
   },
   "outputs": [
    {
     "ename": "TypeError",
     "evalue": "",
     "output_type": "error",
     "traceback": [
      "\u001b[0;31m---------------------------------------------------------------------------\u001b[0m",
      "\u001b[0;31mTypeError\u001b[0m                                 Traceback (most recent call last)",
      "Cell \u001b[0;32mIn [6], line 1\u001b[0m\n\u001b[0;32m----> 1\u001b[0m \u001b[38;5;28;01mraise\u001b[39;00m \u001b[38;5;167;01mTypeError\u001b[39;00m\n",
      "\u001b[0;31mTypeError\u001b[0m: "
     ]
    }
   ],
   "source": [
    "raise TypeError"
   ]
  },
  {
   "cell_type": "markdown",
   "id": "38737b8f",
   "metadata": {},
   "source": [
    "# test: second thing"
   ]
  },
  {
   "cell_type": "markdown",
   "id": "9cc356b9",
   "metadata": {},
   "source": [
    "This is the second test being run. The second initialization block is run before it and so hashlib is found."
   ]
  },
  {
   "cell_type": "code",
   "execution_count": 4,
   "id": "570a0913",
   "metadata": {
    "lines_to_next_cell": 2
   },
   "outputs": [],
   "source": [
    "FILES_HASH_PERSON = b'MyApp Files Hash'\n",
    "h = hashlib.blake2b(digest_size=32, person=FILES_HASH_PERSON)\n",
    "h.update(b'the same content')\n",
    "assert h.hexdigest() == '20d9cd024d4fb086aae819a1432dd2466de12947831b75c5a30cf2676095d3b4'"
   ]
  }
 ],
 "metadata": {
  "jupytext": {
   "formats": "ipynb,py:percent"
  },
  "kernelspec": {
   "display_name": "Python 3 (ipykernel)",
   "language": "python",
   "name": "python3"
  },
  "language_info": {
   "codemirror_mode": {
    "name": "ipython",
    "version": 3
   },
   "file_extension": ".py",
   "mimetype": "text/x-python",
   "name": "python",
   "nbconvert_exporter": "python",
   "pygments_lexer": "ipython3",
   "version": "3.10.7"
  }
 },
 "nbformat": 4,
 "nbformat_minor": 5
}
